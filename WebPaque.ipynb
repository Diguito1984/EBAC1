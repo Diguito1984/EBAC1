{
 "cells": [
  {
   "cell_type": "code",
   "execution_count": 1,
   "id": "79c50228",
   "metadata": {},
   "outputs": [
    {
     "name": "stdout",
     "output_type": "stream",
     "text": [
      "current working directory: c:\\Users\\diego\\AppData\\Local\\Programs\\Microsoft VS Code\n"
     ]
    }
   ],
   "source": [
    "import csv\n",
    "import os\n",
    "\n",
    "cwd = os.getcwd()           # getcwd(), pas getcw()\n",
    "print(f\"current working directory: {cwd}\")"
   ]
  },
  {
   "cell_type": "code",
   "execution_count": 4,
   "id": "55c98547",
   "metadata": {},
   "outputs": [
    {
     "name": "stdout",
     "output_type": "stream",
     "text": [
      "Directorio actual: c:\\Users\\diego\\AppData\\Local\\Programs\\Microsoft VS Code\n",
      "Archivos aquí: ['appx', 'bin', 'chrome_100_percent.pak', 'chrome_200_percent.pak', 'Code.exe', 'Code.VisualElementsManifest.xml', 'd3dcompiler_47.dll', 'ffmpeg.dll', 'icudtl.dat', 'libEGL.dll', 'libGLESv2.dll', 'LICENSES.chromium.html', 'locales', 'policies', 'resources', 'resources.pak', 'snapshot_blob.bin', 'tools', 'unins000.dat', 'unins000.exe', 'unins000.msg', 'v8_context_snapshot.bin', 'vk_swiftshader.dll', 'vk_swiftshader_icd.json', 'vulkan-1.dll']\n"
     ]
    }
   ],
   "source": [
    "import os\n",
    "\n",
    "print(\"Directorio actual:\", os.getcwd())\n",
    "print(\"Archivos aquí:\", os.listdir(os.getcwd()))"
   ]
  },
  {
   "cell_type": "code",
   "execution_count": 19,
   "id": "42b21b01",
   "metadata": {},
   "outputs": [],
   "source": [
    "import numpy as up"
   ]
  },
  {
   "cell_type": "code",
   "execution_count": 28,
   "id": "3abb05fb",
   "metadata": {},
   "outputs": [
    {
     "name": "stdout",
     "output_type": "stream",
     "text": [
      "Número de filas leídas (sin cabecera): 8807\n",
      "Shape del array: (8807, 12)\n"
     ]
    }
   ],
   "source": [
    "\n",
    "import os\n",
    "import csv\n",
    "import numpy as np\n",
    "\n",
    "# 1) Define la ruta al CSV\n",
    "csv_path = \"./Netflix.csv\"  # ajústala a donde esté tu fichero\n",
    "\n",
    "# 2) Ábrelo y lee todas las filas en una lista\n",
    "rows = []\n",
    "with open(csv_path, mode=\"r\", encoding=\"utf-8\", newline=\"\") as f:\n",
    "    reader = csv.reader(f)\n",
    "    header = next(reader)   # si quieres saltarte la cabecera\n",
    "    for fila in reader:\n",
    "        rows.append(fila)\n",
    "\n",
    "print(f\"Número de filas leídas (sin cabecera): {len(rows)}\")\n",
    "\n",
    "# 3) Ahora sí puedes convertirlo a array de NumPy\n",
    "movies = np.array(rows)\n",
    "print(\"Shape del array:\", movies.shape)"
   ]
  },
  {
   "cell_type": "code",
   "execution_count": 5,
   "id": "1bb53fb4",
   "metadata": {},
   "outputs": [
    {
     "ename": "NameError",
     "evalue": "name 'np' is not defined",
     "output_type": "error",
     "traceback": [
      "\u001b[1;31m---------------------------------------------------------------------------\u001b[0m",
      "\u001b[1;31mNameError\u001b[0m                                 Traceback (most recent call last)",
      "Cell \u001b[1;32mIn[5], line 1\u001b[0m\n\u001b[1;32m----> 1\u001b[0m movies \u001b[38;5;241m=\u001b[39m np\u001b[38;5;241m.\u001b[39marray(rows)\n",
      "\u001b[1;31mNameError\u001b[0m: name 'np' is not defined"
     ]
    }
   ],
   "source": [
    "movies = np.array(rows)"
   ]
  },
  {
   "cell_type": "code",
   "execution_count": 30,
   "id": "3d99dab0",
   "metadata": {},
   "outputs": [
    {
     "data": {
      "text/plain": [
       "array(['s1', 'Movie', 'Dick Johnson Is Dead', 'Kirsten Johnson', '',\n",
       "       'United States', '25-Sep-21', '2020', 'PG-13', '90 min',\n",
       "       'Documentaries',\n",
       "       'As her father nears the end of his life, filmmaker Kirsten Johnson stages his death in inventive and comical ways to help them both face the inevitable.'],\n",
       "      dtype='<U771')"
      ]
     },
     "execution_count": 30,
     "metadata": {},
     "output_type": "execute_result"
    }
   ],
   "source": [
    "movies [0]"
   ]
  },
  {
   "cell_type": "code",
   "execution_count": 2,
   "id": "ed917775",
   "metadata": {},
   "outputs": [],
   "source": [
    "import csv\n",
    "\n",
    "# Ruta corregida (ajusta el nombre del archivo si es necesario)\n",
    "csv_path = r\"C:\\Users\\diego\\OneDrive\\Desktop\\ebac\\VisualCode\\Netflix.csv\"\n",
    "\n",
    "with open(csv_path, mode=\"r\", encoding=\"utf-8\", newline=\"\") as f:\n",
    "    reader = csv.reader(f)\n",
    "    header = next(reader)\n",
    " \n",
    "    "
   ]
  },
  {
   "cell_type": "code",
   "execution_count": 6,
   "id": "528876de",
   "metadata": {},
   "outputs": [
    {
     "name": "stderr",
     "output_type": "stream",
     "text": [
      "WARNING: Skipping imdbpy as it is not installed.\n",
      "WARNING: Skipping cinemagoer as it is not installed.\n"
     ]
    }
   ],
   "source": [
    "!pip uninstall imdbpy cinemagoer -y"
   ]
  },
  {
   "cell_type": "code",
   "execution_count": 7,
   "id": "9f8a6fb5",
   "metadata": {},
   "outputs": [
    {
     "name": "stdout",
     "output_type": "stream",
     "text": [
      "Collecting IMDbPY\n",
      "  Using cached IMDbPY-2022.7.9-py3-none-any.whl.metadata (498 bytes)\n",
      "Collecting cinemagoer (from IMDbPY)\n",
      "  Using cached cinemagoer-2023.5.1-py3-none-any.whl.metadata (2.9 kB)\n",
      "Collecting SQLAlchemy (from cinemagoer->IMDbPY)\n",
      "  Downloading sqlalchemy-2.0.43-cp312-cp312-win_amd64.whl.metadata (9.8 kB)\n",
      "Collecting lxml (from cinemagoer->IMDbPY)\n",
      "  Downloading lxml-6.0.0-cp312-cp312-win_amd64.whl.metadata (6.8 kB)\n",
      "Collecting greenlet>=1 (from SQLAlchemy->cinemagoer->IMDbPY)\n",
      "  Downloading greenlet-3.2.4-cp312-cp312-win_amd64.whl.metadata (4.2 kB)\n",
      "Collecting typing-extensions>=4.6.0 (from SQLAlchemy->cinemagoer->IMDbPY)\n",
      "  Using cached typing_extensions-4.14.1-py3-none-any.whl.metadata (3.0 kB)\n",
      "Using cached IMDbPY-2022.7.9-py3-none-any.whl (1.2 kB)\n",
      "Using cached cinemagoer-2023.5.1-py3-none-any.whl (297 kB)\n",
      "Downloading lxml-6.0.0-cp312-cp312-win_amd64.whl (4.0 MB)\n",
      "   ---------------------------------------- 0.0/4.0 MB ? eta -:--:--\n",
      "   -- ------------------------------------- 0.3/4.0 MB ? eta -:--:--\n",
      "   ---------- ----------------------------- 1.0/4.0 MB 3.6 MB/s eta 0:00:01\n",
      "   -------------------- ------------------- 2.1/4.0 MB 4.0 MB/s eta 0:00:01\n",
      "   --------------------------------- ------ 3.4/4.0 MB 4.7 MB/s eta 0:00:01\n",
      "   ---------------------------------------- 4.0/4.0 MB 4.9 MB/s eta 0:00:00\n",
      "Downloading sqlalchemy-2.0.43-cp312-cp312-win_amd64.whl (2.1 MB)\n",
      "   ---------------------------------------- 0.0/2.1 MB ? eta -:--:--\n",
      "   -------------- ------------------------- 0.8/2.1 MB 5.6 MB/s eta 0:00:01\n",
      "   ----------------------------- ---------- 1.6/2.1 MB 4.4 MB/s eta 0:00:01\n",
      "   ---------------------------------------- 2.1/2.1 MB 4.4 MB/s eta 0:00:00\n",
      "Downloading greenlet-3.2.4-cp312-cp312-win_amd64.whl (299 kB)\n",
      "Using cached typing_extensions-4.14.1-py3-none-any.whl (43 kB)\n",
      "Installing collected packages: typing-extensions, lxml, greenlet, SQLAlchemy, cinemagoer, IMDbPY\n",
      "\n",
      "  Attempting uninstall: typing-extensions\n",
      "\n",
      "    Found existing installation: typing_extensions 4.14.1\n",
      "\n",
      "    Uninstalling typing_extensions-4.14.1:\n",
      "\n",
      "   ---------------------------------------- 0/6 [typing-extensions]\n",
      "      Successfully uninstalled typing_extensions-4.14.1\n",
      "   ---------------------------------------- 0/6 [typing-extensions]\n",
      "   ------ --------------------------------- 1/6 [lxml]\n",
      "   ------ --------------------------------- 1/6 [lxml]\n",
      "   ------ --------------------------------- 1/6 [lxml]\n",
      "   ------ --------------------------------- 1/6 [lxml]\n",
      "   ------ --------------------------------- 1/6 [lxml]\n",
      "   ------------- -------------------------- 2/6 [greenlet]\n",
      "   ------------- -------------------------- 2/6 [greenlet]\n",
      "   ------------- -------------------------- 2/6 [greenlet]\n",
      "   ------------- -------------------------- 2/6 [greenlet]\n",
      "   ------------- -------------------------- 2/6 [greenlet]\n",
      "   ------------- -------------------------- 2/6 [greenlet]\n",
      "   -------------------- ------------------- 3/6 [SQLAlchemy]\n",
      "   -------------------- ------------------- 3/6 [SQLAlchemy]\n",
      "   -------------------- ------------------- 3/6 [SQLAlchemy]\n",
      "   -------------------- ------------------- 3/6 [SQLAlchemy]\n",
      "   -------------------- ------------------- 3/6 [SQLAlchemy]\n",
      "   -------------------- ------------------- 3/6 [SQLAlchemy]\n",
      "   -------------------- ------------------- 3/6 [SQLAlchemy]\n",
      "   -------------------- ------------------- 3/6 [SQLAlchemy]\n",
      "   -------------------- ------------------- 3/6 [SQLAlchemy]\n",
      "   -------------------- ------------------- 3/6 [SQLAlchemy]\n",
      "   -------------------- ------------------- 3/6 [SQLAlchemy]\n",
      "   -------------------- ------------------- 3/6 [SQLAlchemy]\n",
      "   -------------------- ------------------- 3/6 [SQLAlchemy]\n",
      "   -------------------- ------------------- 3/6 [SQLAlchemy]\n",
      "   -------------------- ------------------- 3/6 [SQLAlchemy]\n",
      "   -------------------- ------------------- 3/6 [SQLAlchemy]\n",
      "   -------------------- ------------------- 3/6 [SQLAlchemy]\n",
      "   -------------------- ------------------- 3/6 [SQLAlchemy]\n",
      "   -------------------- ------------------- 3/6 [SQLAlchemy]\n",
      "   -------------------- ------------------- 3/6 [SQLAlchemy]\n",
      "   -------------------- ------------------- 3/6 [SQLAlchemy]\n",
      "   -------------------- ------------------- 3/6 [SQLAlchemy]\n",
      "   -------------------- ------------------- 3/6 [SQLAlchemy]\n",
      "   -------------------- ------------------- 3/6 [SQLAlchemy]\n",
      "   -------------------- ------------------- 3/6 [SQLAlchemy]\n",
      "   -------------------- ------------------- 3/6 [SQLAlchemy]\n",
      "   -------------------- ------------------- 3/6 [SQLAlchemy]\n",
      "   -------------------- ------------------- 3/6 [SQLAlchemy]\n",
      "   -------------------- ------------------- 3/6 [SQLAlchemy]\n",
      "   -------------------- ------------------- 3/6 [SQLAlchemy]\n",
      "   -------------------- ------------------- 3/6 [SQLAlchemy]\n",
      "   -------------------- ------------------- 3/6 [SQLAlchemy]\n",
      "   -------------------- ------------------- 3/6 [SQLAlchemy]\n",
      "   -------------------- ------------------- 3/6 [SQLAlchemy]\n",
      "   -------------------- ------------------- 3/6 [SQLAlchemy]\n",
      "   -------------------- ------------------- 3/6 [SQLAlchemy]\n",
      "   -------------------- ------------------- 3/6 [SQLAlchemy]\n",
      "   -------------------- ------------------- 3/6 [SQLAlchemy]\n",
      "   -------------------- ------------------- 3/6 [SQLAlchemy]\n",
      "   -------------------- ------------------- 3/6 [SQLAlchemy]\n",
      "   -------------------- ------------------- 3/6 [SQLAlchemy]\n",
      "   -------------------- ------------------- 3/6 [SQLAlchemy]\n",
      "   -------------------- ------------------- 3/6 [SQLAlchemy]\n",
      "   -------------------- ------------------- 3/6 [SQLAlchemy]\n",
      "   -------------------- ------------------- 3/6 [SQLAlchemy]\n",
      "   -------------------- ------------------- 3/6 [SQLAlchemy]\n",
      "   -------------------- ------------------- 3/6 [SQLAlchemy]\n",
      "   -------------------- ------------------- 3/6 [SQLAlchemy]\n",
      "   -------------------- ------------------- 3/6 [SQLAlchemy]\n",
      "   -------------------- ------------------- 3/6 [SQLAlchemy]\n",
      "   -------------------- ------------------- 3/6 [SQLAlchemy]\n",
      "   -------------------------- ------------- 4/6 [cinemagoer]\n",
      "   -------------------------- ------------- 4/6 [cinemagoer]\n",
      "   -------------------------- ------------- 4/6 [cinemagoer]\n",
      "   -------------------------- ------------- 4/6 [cinemagoer]\n",
      "   -------------------------- ------------- 4/6 [cinemagoer]\n",
      "   -------------------------- ------------- 4/6 [cinemagoer]\n",
      "   -------------------------- ------------- 4/6 [cinemagoer]\n",
      "   ---------------------------------------- 6/6 [IMDbPY]\n",
      "\n",
      "Successfully installed IMDbPY-2022.7.9 SQLAlchemy-2.0.43 cinemagoer-2023.5.1 greenlet-3.2.4 lxml-6.0.0 typing-extensions-4.14.1\n"
     ]
    }
   ],
   "source": [
    "!pip install IMDbPY --upgrade --force-reinstall"
   ]
  },
  {
   "cell_type": "code",
   "execution_count": 1,
   "id": "16e1f499",
   "metadata": {},
   "outputs": [
    {
     "name": "stdout",
     "output_type": "stream",
     "text": [
      "✅ IMDbPY instalado. Versión: 2023.05.01\n",
      "✅ Cinemagoer versión: 2023.05.01\n"
     ]
    }
   ],
   "source": [
    "import imdb\n",
    "print(\"✅ IMDbPY instalado. Versión:\", imdb.__version__)\n",
    "print(\"✅ Cinemagoer versión:\", imdb.__version__)"
   ]
  },
  {
   "cell_type": "code",
   "execution_count": 5,
   "id": "8bd1ea8b",
   "metadata": {},
   "outputs": [
    {
     "name": "stdout",
     "output_type": "stream",
     "text": [
      "🎬 ¡Datos de la película!\n",
      "Título: El padrino\n",
      "Año: 2004\n",
      "Director: No disponible\n",
      "Rating: No disponible/10\n",
      "Géneros: Sin géneros\n"
     ]
    }
   ],
   "source": [
    "import imdb\n",
    "\n",
    "ia = imdb.IMDb()\n",
    "\n",
    "# Buscar la película y actualizar sus datos COMPLETOS\n",
    "peliculas = ia.search_movie(\"El Padrino\")\n",
    "pelicula = peliculas[0]  # Tomamos el primer resultado\n",
    "ia.update(pelicula, info=['main'])  # ¡Esta línea es crucial!\n",
    "\n",
    "print(\"🎬 ¡Datos de la película!\")\n",
    "print(f\"Título: {pelicula.get('title', 'Desconocido')}\")\n",
    "print(f\"Año: {pelicula.get('year', '?')}\")\n",
    "\n",
    "# Director con verificación\n",
    "if 'directors' in pelicula:\n",
    "    print(f\"Director: {pelicula['directors'][0]['name']}\")  # Primer director\n",
    "else:\n",
    "    print(\"Director: No disponible\")\n",
    "\n",
    "# Rating y géneros con valores por defecto\n",
    "print(f\"Rating: {pelicula.get('rating', 'No disponible')}/10\")\n",
    "print(f\"Géneros: {', '.join(pelicula.get('genres', ['Sin géneros']))}\")"
   ]
  },
  {
   "cell_type": "code",
   "execution_count": null,
   "id": "edd49bf7",
   "metadata": {},
   "outputs": [],
   "source": []
  }
 ],
 "metadata": {
  "kernelspec": {
   "display_name": "imdb_env",
   "language": "python",
   "name": "python3"
  },
  "language_info": {
   "codemirror_mode": {
    "name": "ipython",
    "version": 3
   },
   "file_extension": ".py",
   "mimetype": "text/x-python",
   "name": "python",
   "nbconvert_exporter": "python",
   "pygments_lexer": "ipython3",
   "version": "3.12.7"
  }
 },
 "nbformat": 4,
 "nbformat_minor": 5
}
