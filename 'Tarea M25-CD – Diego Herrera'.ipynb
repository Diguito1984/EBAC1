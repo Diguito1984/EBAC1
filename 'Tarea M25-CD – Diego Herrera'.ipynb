{
 "cells": [
  {
   "cell_type": "markdown",
   "id": "2ea5b28a",
   "metadata": {},
   "source": [
    "### 1. Función lambda para obtener la raíz cuadrada de un número"
   ]
  },
  {
   "cell_type": "code",
   "execution_count": 2,
   "id": "a26bc63b",
   "metadata": {},
   "outputs": [
    {
     "name": "stdout",
     "output_type": "stream",
     "text": [
      "4.0\n"
     ]
    }
   ],
   "source": [
    "\n",
    "# Raíz cuadrada usando lambda\n",
    "import math\n",
    "\n",
    "raiz_cuadrada = lambda x: math.sqrt(x)\n",
    "print(raiz_cuadrada(16))\n",
    "  # Resultado esperado: 4.0\n"
   ]
  },
  {
   "cell_type": "markdown",
   "id": "0caa0592",
   "metadata": {},
   "source": [
    "### 2. Función map para obtener el largo de cada palabra en una cadena"
   ]
  },
  {
   "cell_type": "code",
   "execution_count": 3,
   "id": "8a3efd40",
   "metadata": {},
   "outputs": [
    {
     "name": "stdout",
     "output_type": "stream",
     "text": [
      "[6, 2, 2, 8, 8, 1, 8]\n"
     ]
    }
   ],
   "source": [
    "\n",
    "# Usamos map para obtener el largo de cada palabra\n",
    "cadena = \"Python es un lenguaje poderoso y versátil\"\n",
    "palabras = cadena.split()\n",
    "largos = list(map(lambda palabra: len(palabra), palabras))\n",
    "print(largos)  # Resultado: lista con la longitud de cada palabra\n"
   ]
  },
  {
   "cell_type": "markdown",
   "id": "4d269cbf",
   "metadata": {},
   "source": [
    "### 3. Función reduce para calcular el producto de una lista de números"
   ]
  },
  {
   "cell_type": "code",
   "execution_count": 4,
   "id": "a774450f",
   "metadata": {},
   "outputs": [
    {
     "name": "stdout",
     "output_type": "stream",
     "text": [
      "120\n"
     ]
    }
   ],
   "source": [
    "\n",
    "from functools import reduce\n",
    "\n",
    "numeros = [2, 3, 4, 5]\n",
    "producto = reduce(lambda x, y: x * y, numeros)\n",
    "print(producto)  # Resultado esperado: 120\n"
   ]
  },
  {
   "cell_type": "markdown",
   "id": "1fdb69cb",
   "metadata": {},
   "source": [
    "### 4. Función filter para encontrar palabras con mayúsculas o números"
   ]
  },
  {
   "cell_type": "code",
   "execution_count": 5,
   "id": "cc614e03",
   "metadata": {},
   "outputs": [
    {
     "name": "stdout",
     "output_type": "stream",
     "text": [
      "['Mundo', 'python3', 'Código', '2025']\n"
     ]
    }
   ],
   "source": [
    "\n",
    "palabras = [\"hola\", \"Mundo\", \"python3\", \"Código\", \"2025\", \"openai\"]\n",
    "filtro = list(filter(lambda x: any(c.isupper() or c.isdigit() for c in x), palabras))\n",
    "print(filtro)  # Resultado: ['Mundo', 'python3', 'Código', '2025']\n"
   ]
  }
 ],
 "metadata": {
  "kernelspec": {
   "display_name": "base",
   "language": "python",
   "name": "python3"
  },
  "language_info": {
   "codemirror_mode": {
    "name": "ipython",
    "version": 3
   },
   "file_extension": ".py",
   "mimetype": "text/x-python",
   "name": "python",
   "nbconvert_exporter": "python",
   "pygments_lexer": "ipython3",
   "version": "3.12.7"
  }
 },
 "nbformat": 4,
 "nbformat_minor": 5
}
