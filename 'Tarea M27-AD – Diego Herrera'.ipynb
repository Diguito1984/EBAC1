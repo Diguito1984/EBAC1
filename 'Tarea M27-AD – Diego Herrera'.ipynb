{
 "cells": [
  {
   "cell_type": "code",
   "execution_count": 2,
   "id": "fb1d75a5",
   "metadata": {},
   "outputs": [
    {
     "name": "stdout",
     "output_type": "stream",
     "text": [
      "Directorio de Trabajo: C:\\Users\\diego\\OneDrive\\Desktop\\ebac\\VisualCode\n"
     ]
    }
   ],
   "source": [
    "import csv\n",
    "import os\n",
    "from pathlib import Path\n",
    "\n",
    "# Usamos Path para crear una ruta de forma segura\n",
    "nuevo_directorio = Path('C:/Users/diego/OneDrive/Desktop/ebac/VisualCode')\n",
    "\n",
    "# Cambiamos el directorio\n",
    "os.chdir(nuevo_directorio)\n",
    "\n",
    "# Verificamos\n",
    "cwd = os.getcwd()\n",
    "print(\"Directorio de Trabajo: {0}\".format(cwd))"
   ]
  },
  {
   "cell_type": "code",
   "execution_count": 4,
   "id": "f63e8619",
   "metadata": {},
   "outputs": [
    {
     "name": "stdout",
     "output_type": "stream",
     "text": [
      "✅ Archivo encontrado. Abriendo: C:\\Users\\diego\\OneDrive\\Desktop\\ebac\\VisualCode\\ManejArchiv CSV\\netflix_titles.csv\n",
      "\n",
      "Encabezados: ['', 'show_id', 'type', 'title', 'director', 'cast', 'country', 'date_added', 'release_year', 'rating', 'duration', 'listed_in', 'description', 'duration_num', 'duration_unit']\n",
      "Número de columnas: 15\n",
      "\n"
     ]
    }
   ],
   "source": [
    "import csv\n",
    "from pathlib import Path\n",
    "\n",
    "# Define la ruta CORRECTA al archivo incluyendo la subcarpeta\n",
    "ruta_carpeta = Path('C:/Users/diego/OneDrive/Desktop/ebac/VisualCode/ManejArchiv CSV')\n",
    "ruta_archivo = ruta_carpeta / 'netflix_titles.csv'\n",
    "\n",
    "# Verifica SI el archivo existe antes de intentar abrirlo\n",
    "if not ruta_archivo.exists():\n",
    "    print(f\"❌ Error: El archivo '{ruta_archivo}' no se encontró.\")\n",
    "    print(\"Por favor, verifica que:\")\n",
    "    print(\"  1. El nombre de la carpeta sea exactamente 'ManejArchiv CSV'\")\n",
    "    print(\"  2. El nombre del archivo sea exactamente 'netflix_titles.csv'\")\n",
    "    # Salir del script o lanzar una excepción\n",
    "    raise FileNotFoundError(f\"No se pudo encontrar el archivo: {ruta_archivo}\")\n",
    "\n",
    "# Si llegamos aquí, el archivo SÍ existe. Procedemos con confianza.\n",
    "print(f\"✅ Archivo encontrado. Abriendo: {ruta_archivo}\\n\")\n",
    "\n",
    "with open(ruta_archivo, 'r', encoding='utf-8') as file:\n",
    "    csvreader = csv.reader(file)\n",
    "    header = next(csvreader)\n",
    "    print(\"Encabezados:\", header)\n",
    "    print(f\"Número de columnas: {len(header)}\\n\")"
   ]
  },
  {
   "cell_type": "code",
   "execution_count": 8,
   "id": "53ec4e19",
   "metadata": {},
   "outputs": [
    {
     "name": "stdout",
     "output_type": "stream",
     "text": [
      "[['0', 's1', 'Movie', 'Dick Johnson Is Dead', 'Kirsten Johnson', '', 'United States', 'September 25, 2021', '2020', 'PG-13', '90 min', 'Documentaries', 'As her father nears the end of his life, filmmaker Kirsten Johnson stages his death in inventive and comical ways to help them both face the inevitable.', '90.0', 'min'], ['1', 's2', 'TV Show', 'Blood & Water', '', 'Ama Qamata, Khosi Ngema, Gail Mabalane, Thabang Molaba, Dillon Windvogel, Natasha Thahane, Arno Greeff, Xolile Tshabalala, Getmore Sithole, Cindy Mahlangu, Ryle De Morny, Greteli Fincham, Sello Maake Ka-Ncube, Odwa Gwanya, Mekaila Mathys, Sandi Schultz, Duane Williams, Shamilla Miller, Patrick Mofokeng', 'South Africa', 'September 24, 2021', '2021', 'TV-MA', '2 Seasons', 'International TV Shows, TV Dramas, TV Mysteries', 'After crossing paths at a party, a Cape Town teen sets out to prove whether a private-school swimming star is her sister who was abducted at birth.', '2.0', 'season']]\n"
     ]
    }
   ],
   "source": [
    "with open(ruta_archivo, 'r', encoding='utf-8') as file:\n",
    "    csvreader = csv.reader(file)\n",
    "    header = next(csvreader)  # Leer encabezados\n",
    "    \n",
    "    # Aquí va el script que pediste\n",
    "    rows = []\n",
    "    for row in csvreader:\n",
    "        rows.append(row)\n",
    "    \n",
    "    # Imprime las 2 primeras filas\n",
    "    print(rows[:2])"
   ]
  },
  {
   "cell_type": "code",
   "execution_count": null,
   "id": "b63c65a5",
   "metadata": {},
   "outputs": [],
   "source": []
  }
 ],
 "metadata": {
  "kernelspec": {
   "display_name": "base",
   "language": "python",
   "name": "python3"
  },
  "language_info": {
   "codemirror_mode": {
    "name": "ipython",
    "version": 3
   },
   "file_extension": ".py",
   "mimetype": "text/x-python",
   "name": "python",
   "nbconvert_exporter": "python",
   "pygments_lexer": "ipython3",
   "version": "3.12.7"
  }
 },
 "nbformat": 4,
 "nbformat_minor": 5
}
