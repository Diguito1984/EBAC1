{
 "cells": [
  {
   "cell_type": "code",
   "execution_count": 1,
   "id": "22fe2e11",
   "metadata": {},
   "outputs": [
    {
     "name": "stdout",
     "output_type": "stream",
     "text": [
      "✅ Librerías importadas correctamente\n"
     ]
    }
   ],
   "source": [
    "import requests\n",
    "from bs4 import BeautifulSoup\n",
    "import pandas as pd\n",
    "from pprint import pprint\n",
    "import json\n",
    "from urllib.parse import urljoin\n",
    "import matplotlib.pyplot as plt\n",
    "\n",
    "print(\"✅ Librerías importadas correctamente\")"
   ]
  },
  {
   "cell_type": "code",
   "execution_count": 3,
   "id": "ffffd98a",
   "metadata": {},
   "outputs": [
    {
     "name": "stdout",
     "output_type": "stream",
     "text": [
      "Requirement already satisfied: requests in c:\\users\\diego\\anaconda3\\lib\\site-packages (2.32.3)\n",
      "Requirement already satisfied: charset-normalizer<4,>=2 in c:\\users\\diego\\anaconda3\\lib\\site-packages (from requests) (3.3.2)\n",
      "Requirement already satisfied: idna<4,>=2.5 in c:\\users\\diego\\anaconda3\\lib\\site-packages (from requests) (3.7)\n",
      "Requirement already satisfied: urllib3<3,>=1.21.1 in c:\\users\\diego\\anaconda3\\lib\\site-packages (from requests) (2.2.3)\n",
      "Requirement already satisfied: certifi>=2017.4.17 in c:\\users\\diego\\anaconda3\\lib\\site-packages (from requests) (2025.8.3)\n",
      "Note: you may need to restart the kernel to use updated packages.\n"
     ]
    }
   ],
   "source": [
    "pip install requests"
   ]
  },
  {
   "cell_type": "code",
   "execution_count": 5,
   "id": "937b3163",
   "metadata": {},
   "outputs": [
    {
     "name": "stdout",
     "output_type": "stream",
     "text": [
      "Solicitando contenido de: https://httpbin.org/html\n",
      "✅ Status Code: 200\n",
      "📊 Tamaño del contenido: 3739 caracteres\n",
      "\n",
      "==================================================\n",
      "📄 CONTENIDO HTML (primeros 500 caracteres):\n",
      "==================================================\n",
      "<!DOCTYPE html>\n",
      "<html>\n",
      "  <head>\n",
      "  </head>\n",
      "  <body>\n",
      "      <h1>Herman Melville - Moby-Dick</h1>\n",
      "\n",
      "      <div>\n",
      "        <p>\n",
      "          Availing himself of the mild, summer-cool weather that now reigned in these latitudes, and in preparation for the peculiarly active pursuits shortly to be anticipated, Perth, the begrimed, blistered old blacksmith, had not removed his portable forge to the hold again, after concluding his contributory work for Ahab's leg, but still retained it on deck, fast lashed to r...\n"
     ]
    }
   ],
   "source": [
    "import requests\n",
    "\n",
    "url = \"https://httpbin.org/html\"  # Sitio de prueba\n",
    "print(f\"Solicitando contenido de: {url}\")\n",
    "\n",
    "try:\n",
    "    response = requests.get(url, timeout=10)\n",
    "    response.raise_for_status()  # Verificar si la solicitud fue exitosa\n",
    "    \n",
    "    print(f\"✅ Status Code: {response.status_code}\")\n",
    "    print(f\"📊 Tamaño del contenido: {len(response.text)} caracteres\")\n",
    "    print(\"\\n\" + \"=\"*50)\n",
    "    print(\"📄 CONTENIDO HTML (primeros 500 caracteres):\")\n",
    "    print(\"=\"*50)\n",
    "    print(response.text[:500] + \"...\")\n",
    "    \n",
    "except requests.exceptions.RequestException as e:\n",
    "    print(f\"❌ Error: {e}\")"
   ]
  },
  {
   "cell_type": "code",
   "execution_count": 6,
   "id": "12c9185c",
   "metadata": {},
   "outputs": [],
   "source": [
    "# Ejercicio 2: Scraping de productos de Mercado Libre (ejemplo)\n",
    "\n",
    "def scrape_mercadolibre(search_term=\"laptop\"):\n",
    "    \"\"\"Función para hacer scraping de productos de Mercado Libre\"\"\"\n",
    "    \n",
    "    # URL de búsqueda (ejemplo educativo)\n",
    "    url = f\"https://listado.mercadolibre.com.mx/{search_term.replace(' ', '-')}\"\n",
    "    \n",
    "    print(f\"🔍 Buscando: {search_term}\")\n",
    "    print(f\"🌐 URL: {url}\")\n",
    "    \n",
    "    try:\n",
    "        headers = {\n",
    "            'User-Agent': 'Mozilla/5.0 (Windows NT 10.0; Win64; x64) AppleWebKit/537.36'\n",
    "        }\n",
    "        \n",
    "        response = requests.get(url, headers=headers, timeout=15)\n",
    "        response.raise_for_status()\n",
    "        \n",
    "        soup = BeautifulSoup(response.text, 'html.parser')\n",
    "        \n",
    "        # Encontrar productos (selectores pueden cambiar)\n",
    "        products = []\n",
    "        product_items = soup.find_all('li', class_='ui-search-layout__item')[:10]  # Limitar a 10 productos\n",
    "        \n",
    "        for item in product_items:\n",
    "            try:\n",
    "                title_elem = item.find('h2', class_='ui-search-item__title')\n",
    "                price_elem = item.find('span', class_='price-tag-fraction')\n",
    "                link_elem = item.find('a', class_='ui-search-link')\n",
    "                \n",
    "                if title_elem and price_elem:\n",
    "                    product = {\n",
    "                        'title': title_elem.get_text().strip(),\n",
    "                        'price': float(price_elem.get_text().replace(',', '')),\n",
    "                        'currency': 'MXN',\n",
    "                        'link': link_elem['href'] if link_elem else 'No link'\n",
    "                    }\n",
    "                    products.append(product)\n",
    "                    \n",
    "            except Exception as e:\n",
    "                print(f\"⚠️ Error procesando producto: {e}\")\n",
    "                continue\n",
    "        \n",
    "        return products\n",
    "        \n",
    "    except Exception as e:\n",
    "        print(f\"❌ Error en scraping: {e}\")\n",
    "        return []\n"
   ]
  },
  {
   "cell_type": "code",
   "execution_count": 8,
   "id": "ade25aa5",
   "metadata": {},
   "outputs": [],
   "source": [
    "import requests\n",
    "from bs4 import BeautifulSoup\n",
    "import pandas as pd"
   ]
  },
  {
   "cell_type": "code",
   "execution_count": 9,
   "id": "0ab35e30",
   "metadata": {},
   "outputs": [
    {
     "name": "stdout",
     "output_type": "stream",
     "text": [
      "Requirement already satisfied: beautifulsoup4 in c:\\users\\diego\\anaconda3\\lib\\site-packages (4.12.3)\n",
      "Requirement already satisfied: soupsieve>1.2 in c:\\users\\diego\\anaconda3\\lib\\site-packages (from beautifulsoup4) (2.5)\n",
      "Note: you may need to restart the kernel to use updated packages.\n"
     ]
    }
   ],
   "source": [
    "pip install beautifulsoup4"
   ]
  },
  {
   "cell_type": "code",
   "execution_count": 12,
   "id": "a929abc4",
   "metadata": {},
   "outputs": [
    {
     "name": "stdout",
     "output_type": "stream",
     "text": [
      "🔍 Scraping sitio de prueba: https://webscraper.io/test-sites/e-commerce/allinone\n",
      "✅ Scraping exitoso!\n",
      "               title    price currency\n",
      "0  Lenovo V110-15...   454.73      USD\n",
      "1  Asus ROG Strix...  1769.00      USD\n",
      "2          HP 250 G3   520.99      USD\n"
     ]
    }
   ],
   "source": [
    "import requests\n",
    "from bs4 import BeautifulSoup\n",
    "import pandas as pd\n",
    "\n",
    "def scrape_simple_example():\n",
    "    \"\"\"Versión simple con sitio de prueba\"\"\"\n",
    "    \n",
    "    # Usar un sitio de prueba en lugar de Mercado Libre\n",
    "    url = \"https://webscraper.io/test-sites/e-commerce/allinone\"\n",
    "    \n",
    "    print(f\"🔍 Scraping sitio de prueba: {url}\")\n",
    "    \n",
    "    try:\n",
    "        headers = {\n",
    "            'User-Agent': 'Mozilla/5.0 (Windows NT 10.0; Win64; x64) AppleWebKit/537.36'\n",
    "        }\n",
    "        \n",
    "        response = requests.get(url, headers=headers, timeout=15)\n",
    "        soup = BeautifulSoup(response.text, 'html.parser')\n",
    "        \n",
    "        products = []\n",
    "        \n",
    "        # Selectores simples para sitio de prueba\n",
    "        product_cards = soup.find_all('div', class_='card')\n",
    "        \n",
    "        for card in product_cards[:5]:  # Solo 5 productos\n",
    "            try:\n",
    "                title = card.find('a', class_='title')\n",
    "                price = card.find('h4', class_='price')\n",
    "                \n",
    "                if title and price:\n",
    "                    products.append({\n",
    "                        'title': title.get_text().strip(),\n",
    "                        'price': float(price.get_text().replace('$', '')),\n",
    "                        'currency': 'USD'\n",
    "                    })\n",
    "            except:\n",
    "                continue\n",
    "        \n",
    "        return products\n",
    "        \n",
    "    except Exception as e:\n",
    "        print(f\"Error: {e}\")\n",
    "        return []\n",
    "\n",
    "# Ejecutar scraping simple\n",
    "productos = scrape_simple_example()\n",
    "\n",
    "if productos:\n",
    "    df = pd.DataFrame(productos)\n",
    "    print(\"✅ Scraping exitoso!\")\n",
    "    print(df)\n",
    "else:\n",
    "    print(\"Usando datos de ejemplo...\")\n",
    "    datos_ejemplo = [\n",
    "        {'title': 'Laptop Dell XPS 13', 'price': 1200.0, 'currency': 'USD'},\n",
    "        {'title': 'iPhone 14 Pro Max', 'price': 1099.0, 'currency': 'USD'},\n",
    "        {'title': 'Samsung Galaxy S23', 'price': 899.0, 'currency': 'USD'}\n",
    "    ]\n",
    "    df = pd.DataFrame(datos_ejemplo)\n",
    "    print(df)"
   ]
  },
  {
   "cell_type": "code",
   "execution_count": 13,
   "id": "f18ba93e",
   "metadata": {},
   "outputs": [
    {
     "name": "stdout",
     "output_type": "stream",
     "text": [
      "📊 PRODUCTOS ENCONTRADOS\n",
      "================================================================================\n",
      "No.  Título                                   Precio     Moneda\n",
      "--------------------------------------------------------------------------------\n",
      "1    Lenovo V110-15...                        $454.73    USD   \n",
      "2    Asus ROG Strix...                        $1,769.00  USD   \n",
      "3    HP 250 G3                                $520.99    USD   \n",
      "--------------------------------------------------------------------------------\n",
      "\n",
      "📈 ESTADÍSTICAS:\n",
      "   • Total de productos: 3\n",
      "   • Precio promedio: $914.91 USD\n",
      "   • Precio mínimo: $454.73 USD\n",
      "   • Precio máximo: $1,769.00 USD\n",
      "   • Rango de precios: $1,314.27\n",
      "\n",
      "🎯 DATAFRAME COMPLETO:\n"
     ]
    },
    {
     "data": {
      "text/html": [
       "<div>\n",
       "<style scoped>\n",
       "    .dataframe tbody tr th:only-of-type {\n",
       "        vertical-align: middle;\n",
       "    }\n",
       "\n",
       "    .dataframe tbody tr th {\n",
       "        vertical-align: top;\n",
       "    }\n",
       "\n",
       "    .dataframe thead th {\n",
       "        text-align: right;\n",
       "    }\n",
       "</style>\n",
       "<table border=\"1\" class=\"dataframe\">\n",
       "  <thead>\n",
       "    <tr style=\"text-align: right;\">\n",
       "      <th></th>\n",
       "      <th>title</th>\n",
       "      <th>price</th>\n",
       "      <th>currency</th>\n",
       "    </tr>\n",
       "  </thead>\n",
       "  <tbody>\n",
       "    <tr>\n",
       "      <th>0</th>\n",
       "      <td>Lenovo V110-15...</td>\n",
       "      <td>454.73</td>\n",
       "      <td>USD</td>\n",
       "    </tr>\n",
       "    <tr>\n",
       "      <th>1</th>\n",
       "      <td>Asus ROG Strix...</td>\n",
       "      <td>1769.00</td>\n",
       "      <td>USD</td>\n",
       "    </tr>\n",
       "    <tr>\n",
       "      <th>2</th>\n",
       "      <td>HP 250 G3</td>\n",
       "      <td>520.99</td>\n",
       "      <td>USD</td>\n",
       "    </tr>\n",
       "  </tbody>\n",
       "</table>\n",
       "</div>"
      ],
      "text/plain": [
       "               title    price currency\n",
       "0  Lenovo V110-15...   454.73      USD\n",
       "1  Asus ROG Strix...  1769.00      USD\n",
       "2          HP 250 G3   520.99      USD"
      ]
     },
     "metadata": {},
     "output_type": "display_data"
    }
   ],
   "source": [
    "if productos:\n",
    "    df = pd.DataFrame(productos)\n",
    "    \n",
    "    print(\"📊 PRODUCTOS ENCONTRADOS\")\n",
    "    print(\"=\" * 80)\n",
    "    \n",
    "    # Mostrar tabla formateada\n",
    "    print(f\"{'No.':<4} {'Título':<40} {'Precio':<10} {'Moneda':<6}\")\n",
    "    print(\"-\" * 80)\n",
    "    \n",
    "    for i, (index, row) in enumerate(df.iterrows(), 1):\n",
    "        titulo = row['title'][:37] + '...' if len(row['title']) > 40 else row['title']\n",
    "        precio = f\"${row['price']:,.2f}\"\n",
    "        print(f\"{i:<4} {titulo:<40} {precio:<10} {row['currency']:<6}\")\n",
    "    \n",
    "    print(\"-\" * 80)\n",
    "    \n",
    "    # Estadísticas\n",
    "    print(f\"\\n📈 ESTADÍSTICAS:\")\n",
    "    print(f\"   • Total de productos: {len(df)}\")\n",
    "    print(f\"   • Precio promedio: ${df['price'].mean():,.2f} {df['currency'].iloc[0]}\")\n",
    "    print(f\"   • Precio mínimo: ${df['price'].min():,.2f} {df['currency'].iloc[0]}\")\n",
    "    print(f\"   • Precio máximo: ${df['price'].max():,.2f} {df['currency'].iloc[0]}\")\n",
    "    print(f\"   • Rango de precios: ${df['price'].max() - df['price'].min():,.2f}\")\n",
    "    \n",
    "    # Opcional: Mostrar DataFrame completo de pandas\n",
    "    print(f\"\\n🎯 DATAFRAME COMPLETO:\")\n",
    "    display(df)  # Para Jupyter Notebook\n",
    "    # print(df)   # Para terminal normal\n",
    "    \n",
    "else:\n",
    "    print(\"❌ No se encontraron productos para mostrar en la tabla\")"
   ]
  },
  {
   "cell_type": "code",
   "execution_count": 15,
   "id": "9a2d003c",
   "metadata": {},
   "outputs": [
    {
     "name": "stdout",
     "output_type": "stream",
     "text": [
      "📋 RESUMEN DE PRODUCTOS\n",
      "============================================================\n",
      "               title     price currency\n",
      "0  Lenovo V110-15...   $454.73      USD\n",
      "1  Asus ROG Strix... $1,769.00      USD\n",
      "2          HP 250 G3   $520.99      USD\n",
      "\n",
      "📊 DISTRIBUCIÓN DE PRECIOS:\n"
     ]
    },
    {
     "ename": "NameError",
     "evalue": "name 'plt' is not defined",
     "output_type": "error",
     "traceback": [
      "\u001b[1;31m---------------------------------------------------------------------------\u001b[0m",
      "\u001b[1;31mNameError\u001b[0m                                 Traceback (most recent call last)",
      "Cell \u001b[1;32mIn[15], line 24\u001b[0m\n\u001b[0;32m     22\u001b[0m \u001b[38;5;28mprint\u001b[39m(\u001b[38;5;124mf\u001b[39m\u001b[38;5;124m\"\u001b[39m\u001b[38;5;130;01m\\n\u001b[39;00m\u001b[38;5;124m📊 DISTRIBUCIÓN DE PRECIOS:\u001b[39m\u001b[38;5;124m\"\u001b[39m)\n\u001b[0;32m     23\u001b[0m df[\u001b[38;5;124m'\u001b[39m\u001b[38;5;124mprice\u001b[39m\u001b[38;5;124m'\u001b[39m]\u001b[38;5;241m.\u001b[39mplot(kind\u001b[38;5;241m=\u001b[39m\u001b[38;5;124m'\u001b[39m\u001b[38;5;124mbar\u001b[39m\u001b[38;5;124m'\u001b[39m, title\u001b[38;5;241m=\u001b[39m\u001b[38;5;124m'\u001b[39m\u001b[38;5;124mPrecios de Productos\u001b[39m\u001b[38;5;124m'\u001b[39m)\n\u001b[1;32m---> 24\u001b[0m plt\u001b[38;5;241m.\u001b[39mxticks(rotation\u001b[38;5;241m=\u001b[39m\u001b[38;5;241m45\u001b[39m)\n\u001b[0;32m     25\u001b[0m plt\u001b[38;5;241m.\u001b[39mtight_layout()\n\u001b[0;32m     26\u001b[0m plt\u001b[38;5;241m.\u001b[39mshow()\n",
      "\u001b[1;31mNameError\u001b[0m: name 'plt' is not defined"
     ]
    },
    {
     "data": {
      "image/png": "[encoded data removed]",
      "text/plain": [
       "<Figure size 640x480 with 1 Axes>"
      ]
     },
     "metadata": {},
     "output_type": "display_data"
    }
   ],
   "source": [
    "if productos:\n",
    "    df = pd.DataFrame(productos)\n",
    "    \n",
    "    print(\"📋 RESUMEN DE PRODUCTOS\")\n",
    "    print(\"=\" * 60)\n",
    "    \n",
    "    # Configurar pandas para mejor visualización\n",
    "    pd.set_option('display.max_colwidth', 35)\n",
    "    pd.set_option('display.width', 100)\n",
    "    \n",
    "    # Mostrar tabla con formato\n",
    "    print(df[['title', 'price', 'currency']].to_string(\n",
    "        formatters={\n",
    "            'price': lambda x: f\"${x:,.2f}\",\n",
    "            'title': lambda x: x[:32] + '...' if len(x) > 35 else x\n",
    "        },\n",
    "        index=True,\n",
    "        header=True\n",
    "    ))\n",
    "    \n",
    "    # Gráfico simple de precios\n",
    "    print(f\"\\n📊 DISTRIBUCIÓN DE PRECIOS:\")\n",
    "    df['price'].plot(kind='bar', title='Precios de Productos')\n",
    "    plt.xticks(rotation=45)\n",
    "    plt.tight_layout()\n",
    "    plt.show()"
   ]
  },
  {
   "cell_type": "code",
   "execution_count": 18,
   "id": "2a38b81d",
   "metadata": {},
   "outputs": [
    {
     "name": "stdout",
     "output_type": "stream",
     "text": [
      "🚀 Generando listado divertido...\n",
      "\n",
      "============================================================\n",
      "📋 LISTADO DIVERTIDO\n",
      "============================================================\n",
      "1. [Chiste] 🎭 Why do programmers always get Christmas and Halloween mixed up? - Because DEC 25 = OCT 31\n",
      "\n",
      "2. [Dato Curioso] 🧠 Emus and kangaroos cannot walk backwards, and are on the Australian coat of arms for that reason.\n",
      "\n",
      "3. [Consejo] 💡 You spend half your life asleep or in bed. It's worth spending money on a good mattress, decent pillows and a comfy duvet.\n",
      "\n",
      "4. [Meme] 📸 me_irl\n",
      "\n",
      "✨ ¡Listo! Espero te hayas divertido 😊\n"
     ]
    }
   ],
   "source": [
    "# API\n",
    "\n",
    "import requests\n",
    "import pandas as pd\n",
    "\n",
    "print(\"🚀 Generando listado divertido...\")\n",
    "\n",
    "# 1. Chistes de programación\n",
    "try:\n",
    "    chiste = requests.get('https://official-joke-api.appspot.com/jokes/programming/random', timeout=5).json()[0]\n",
    "    chiste_texto = f\"🎭 {chiste['setup']} - {chiste['punchline']}\"\n",
    "except:\n",
    "    chiste_texto = \"🎭 ¿Por qué los programadores prefieren el modo oscuro? ¡Porque la luz atrae bugs!\"\n",
    "\n",
    "# 2. Dato curioso\n",
    "try:\n",
    "    dato = requests.get('https://uselessfacts.jsph.pl/api/v2/facts/random', timeout=5).json()\n",
    "    dato_texto = f\"🧠 {dato['text']}\"\n",
    "except:\n",
    "    dato_texto = \"🧠 Los pulpos tienen tres corazones\"\n",
    "\n",
    "# 3. Consejo random\n",
    "try:\n",
    "    consejo = requests.get('https://api.adviceslip.com/advice', timeout=5).json()['slip']\n",
    "    consejo_texto = f\"💡 {consejo['advice']}\"\n",
    "except:\n",
    "    consejo_texto = \"💡 Si el código no funciona, prueba reiniciando\"\n",
    "\n",
    "# 4. Meme description\n",
    "try:\n",
    "    meme = requests.get('https://meme-api.com/gimme', timeout=5).json()\n",
    "    meme_texto = f\"📸 {meme['title']}\"\n",
    "except:\n",
    "    meme_texto = \"📸 Cuando el código compila a la primera ⚡\"\n",
    "\n",
    "# Crear listado simple\n",
    "listado_divertido = [\n",
    "    {\"Tipo\": \"Chiste\", \"Contenido\": chiste_texto},\n",
    "    {\"Tipo\": \"Dato Curioso\", \"Contenido\": dato_texto},\n",
    "    {\"Tipo\": \"Consejo\", \"Contenido\": consejo_texto},\n",
    "    {\"Tipo\": \"Meme\", \"Contenido\": meme_texto}\n",
    "]\n",
    "\n",
    "# Mostrar listado ordenado\n",
    "print(\"\\n\" + \"=\"*60)\n",
    "print(\"📋 LISTADO DIVERTIDO\")\n",
    "print(\"=\"*60)\n",
    "\n",
    "for i, item in enumerate(listado_divertido, 1):\n",
    "    print(f\"{i}. [{item['Tipo']}] {item['Contenido']}\")\n",
    "    print()\n",
    "\n",
    "print(\"✨ ¡Listo! Espero te hayas divertido 😊\")"
   ]
  },
  {
   "cell_type": "code",
   "execution_count": null,
   "id": "675cf9ba",
   "metadata": {},
   "outputs": [],
   "source": []
  }
 ],
 "metadata": {
  "kernelspec": {
   "display_name": "base",
   "language": "python",
   "name": "python3"
  },
  "language_info": {
   "codemirror_mode": {
    "name": "ipython",
    "version": 3
   },
   "file_extension": ".py",
   "mimetype": "text/x-python",
   "name": "python",
   "nbconvert_exporter": "python",
   "pygments_lexer": "ipython3",
   "version": "3.12.7"
  }
 },
 "nbformat": 4,
 "nbformat_minor": 5
}
